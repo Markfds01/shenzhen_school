{
 "cells": [
  {
   "cell_type": "markdown",
   "id": "0a2c077a",
   "metadata": {},
   "source": [
    "# Python Basics"
   ]
  },
  {
   "cell_type": "markdown",
   "id": "331f8070",
   "metadata": {},
   "source": [
    "Python is a **high-level, interpreted, and dynamically typed programming language** widely used in scientific computing, data analysis, artificial intelligence, and automation.  \n",
    "Its design philosophy emphasizes **readability** and **conciseness**.\n",
    "\n",
    "## 1. Key Features\n",
    "- **Interpreted**: No compilation step; code runs directly via the Python interpreter.\n",
    "  \n",
    "- **Dynamically Typed**: Variable types are inferred at runtime.\n",
    "- **Multi-paradigm**: Supports procedural, object-oriented, and functional programming.\n",
    "- **Rich Ecosystem**: Thousands of libraries for scientific research (NumPy, pandas, PyTorch, etc.)."
   ]
  },
  {
   "cell_type": "markdown",
   "id": "e4021204",
   "metadata": {},
   "source": [
    "## 2. Quick examples of Python syntax"
   ]
  },
  {
   "cell_type": "markdown",
   "id": "91111958",
   "metadata": {},
   "source": [
    "#### Variable assignment:\n",
    "```python\n",
    "# This is a comment\n",
    "x = 10  # Variable assignment\n",
    "y = 20  # Another variable assignment\n",
    "z = x + y  # Variable assignment with expression"
   ]
  },
  {
   "cell_type": "markdown",
   "id": "e47b19a7",
   "metadata": {},
   "source": [
    "#### If/else statements:\n",
    "```python\n",
    "if x > y:\n",
    "    print(\"x is greater than y\")\n",
    "else:\n",
    "    print(\"y is greater than or equal to x\")\n"
   ]
  },
  {
   "cell_type": "markdown",
   "id": "0ab43ba4",
   "metadata": {},
   "source": [
    "### While loop:\n",
    "```python\n",
    "while x < 20:\n",
    "    print(x)\n",
    "    x += 1  # Increment x by 1\n"
   ]
  },
  {
   "cell_type": "markdown",
   "id": "0a33cdc5",
   "metadata": {},
   "source": [
    "#### For loops:\n",
    "```python\n",
    "for i in range(5):\n",
    "    print(i)  # Prints numbers from 0 to"
   ]
  },
  {
   "cell_type": "markdown",
   "id": "c1c9fdea",
   "metadata": {},
   "source": [
    "#### For each loops:\n",
    "```python\n",
    "my_list = [1, 2, 3, 4, 5]\n",
    "for item in my_list:\n",
    "    print(item)  # Prints each item in the list"
   ]
  },
  {
   "cell_type": "markdown",
   "id": "d954b716",
   "metadata": {},
   "source": [
    "## 3. Lists, Sets and Dictionaries"
   ]
  },
  {
   "cell_type": "markdown",
   "id": "5dcbfabe",
   "metadata": {},
   "source": [
    "#### Lists:\n",
    "\n",
    "Lists are ordered collections of items that can be of different types. They are mutable, meaning you can change their content.\n",
    "```python\n",
    "my_list = [1, 2, 3, 4, 5]\n",
    "my_list.append(6)  # Add an item to the list\n",
    "my_list.remove(3)  # Remove an item from the list\n",
    "print(my_list)  # Prints the modified list"
   ]
  },
  {
   "cell_type": "markdown",
   "id": "fffecce1",
   "metadata": {},
   "source": [
    "#### Sets:\n",
    "Sets are unordered collections of unique elements. They are useful for membership testing and eliminating duplicate entries.\n",
    "```python\n",
    "my_set = {1, 2, 3, 4, 5}\n",
    "my_set.add(6)  # Adding an element\n",
    "my_set.remove(3)  # Removing an element\n",
    "print(my_set)  # Prints the set"
   ]
  },
  {
   "cell_type": "markdown",
   "id": "34fbfbd3",
   "metadata": {},
   "source": [
    "You can also initialize a set from a list, removing duplicates:\n",
    "```python\n",
    "my_list = [1, 2, 2, 3, 4]\n",
    "my_set = set(my_list)\n",
    "print(my_set)"
   ]
  },
  {
   "cell_type": "markdown",
   "id": "83d07020",
   "metadata": {},
   "source": [
    "#### Dictionaries:\n",
    "Dictionaries are collections of key-value pairs, allowing for fast lookups by key.\n",
    "```python\n",
    "my_dict = {'a': 1, 'b': 2, 'c': 3}\n",
    "my_dict['d'] = 4  # Adding a new key-value pair\n",
    "print(my_dict['a'])  # Accessing a value by key"
   ]
  },
  {
   "cell_type": "markdown",
   "id": "653b9a8a",
   "metadata": {},
   "source": [
    "You can also initialize a dict with a comprehension:\n",
    "```python\n",
    "my_dict = {x: x**2 for x in range(5)}"
   ]
  },
  {
   "cell_type": "markdown",
   "id": "84bb6f84",
   "metadata": {},
   "source": [
    "## 4. Little introduction to pandas"
   ]
  },
  {
   "cell_type": "markdown",
   "id": "e9ff775b",
   "metadata": {},
   "source": [
    "Main value of pandas is its ability to handle and manipulate structured data efficiently.\n",
    "\n",
    "```python\n",
    "import pandas as pd\n",
    "# Creating a DataFrame\n",
    "data = {    'Name': ['Alice', 'Bob', 'Charlie'],\n",
    "    'Age': [25, 30, 35],\n",
    "    'City': ['New York', 'Los Angeles', 'Chicago'],\n",
    "    'height': [5.5, 6.0, 5.8],\n",
    "    'weight': [130, 180, 150]}\n",
    "df = pd.DataFrame(data)\n",
    "print(df)  # Displays the DataFrame"
   ]
  },
  {
   "cell_type": "markdown",
   "id": "b69d3726",
   "metadata": {},
   "source": [
    "You can store the data into a list and of dictionaries and then convert it into a DataFrame:\n",
    "\n",
    "```python\n",
    "list_names = ['Alice', 'Bob', 'Charlie']\n",
    "data_to_df = []\n",
    "\n",
    "for i, name in enumerate(list_names):\n",
    "    data_to_df.append({'index': i, 'name': name})\n",
    "\n",
    "df = pd.DataFrame(data_to_df)"
   ]
  },
  {
   "cell_type": "markdown",
   "id": "4cdbf2da",
   "metadata": {},
   "source": [
    "We can manipulate the columns of the DataFrame:\n",
    "\n",
    "```python\n",
    "# Adding a new column\n",
    "df['BMI'] = df['weight'] / (df['height'] ** 2)\n",
    "print(df)"
   ]
  },
  {
   "cell_type": "markdown",
   "id": "9152f9ec",
   "metadata": {},
   "source": [
    "We can also perform operations like filtering, grouping, and aggregating data.\n",
    "\n",
    "```python\n",
    "# Filtering rows where Age is greater than 28\n",
    "filtered_df = df[df['Age'] > 28]\n",
    "print(filtered_df)\n",
    "# Grouping by City and calculating the average Age\n",
    "grouped_df = df.groupby('City').agg({'Age': 'mean', 'height': 'mean', 'weight': 'mean'}).reset_index()\n",
    "print(grouped_df)"
   ]
  },
  {
   "cell_type": "markdown",
   "id": "e2684f1c",
   "metadata": {},
   "source": [
    "## 5. Little tutorial of networkx"
   ]
  },
  {
   "cell_type": "markdown",
   "id": "749e9354",
   "metadata": {},
   "source": [
    "To create a random netwwwork, like an Erdös Renyi graph:\n",
    "\n",
    "```python\n",
    "my_network = nx.erdos_renyi_graph(n=initial_population, p=0.0005) \n",
    "\n"
   ]
  },
  {
   "cell_type": "markdown",
   "id": "2ae1cb36",
   "metadata": {},
   "source": [
    "Now we can add an attribute to all the nodes, for instance, the weight:\n",
    "\n",
    "```python\n",
    "nx.set_node_attributes(my_network, 1.0, 'weight')\n"
   ]
  },
  {
   "cell_type": "markdown",
   "id": "185a7a66",
   "metadata": {},
   "source": [
    "If we want to access and change that attribute, we can just:\n",
    "\n",
    "```python\n",
    "my_newtork.nodes[node]['weight']  = 5.0 \n"
   ]
  },
  {
   "cell_type": "markdown",
   "id": "4b4afdaf",
   "metadata": {},
   "source": [
    "We can also loop through the nodes and through the neighbours of a node as: \n",
    "\n",
    "```python\n",
    "# Loop through the nodes\n",
    "for node in my_network.nodes():\n",
    "    print(node)\n",
    "\n",
    "# Loop through the neighbours\n",
    "for neighbour in my_network.neighbors(node):\n",
    "    print(neighbour)"
   ]
  },
  {
   "cell_type": "markdown",
   "id": "25f4f59e",
   "metadata": {},
   "source": [
    "# Quick SIR Recap"
   ]
  },
  {
   "cell_type": "markdown",
   "id": "58ae0d6b",
   "metadata": {},
   "source": [
    "We are going to use the SIR model to simulate the spread of a disease in a well-mixed population. The SIR model is a simple compartmental model that divides the population into three compartments:  "
   ]
  },
  {
   "cell_type": "markdown",
   "id": "3ec230bd",
   "metadata": {},
   "source": [
    "- Susceptible (S)\n",
    "- Infected (I)\n",
    "- Recovered (R)"
   ]
  },
  {
   "cell_type": "markdown",
   "id": "ffdd7a1d",
   "metadata": {},
   "source": [
    "The model assumes that individuals can move between these compartments based on certain rates.\n",
    "Those rates are:\n"
   ]
  },
  {
   "cell_type": "markdown",
   "id": "0578f51b",
   "metadata": {},
   "source": [
    "- $\\beta$ : Infectivity rate.\n",
    "- $\\mu$ : Recovery rate."
   ]
  },
  {
   "cell_type": "markdown",
   "id": "a293d9c7",
   "metadata": {},
   "source": [
    "# Simulations"
   ]
  },
  {
   "cell_type": "markdown",
   "id": "9cc8a7bf",
   "metadata": {},
   "source": [
    "With this introduction, we can start to code our simulations."
   ]
  },
  {
   "cell_type": "markdown",
   "id": "c1c33646",
   "metadata": {},
   "source": [
    "First, we will import the necessary libraries for all the simulations:\n"
   ]
  },
  {
   "cell_type": "code",
   "execution_count": 1,
   "id": "c1409045",
   "metadata": {},
   "outputs": [],
   "source": [
    "import numpy as np\n",
    "import pandas as pd \n",
    "import random\n",
    "import networkx as nx\n",
    "\n",
    "from plot_functions import plot_well_mixed_ODES, plot_well_mixed_stochastic, plot_well_mixed_Gillespie, plot_stochastic_networks, plot_networks_Gillespie"
   ]
  },
  {
   "cell_type": "markdown",
   "id": "9a6e9c09",
   "metadata": {},
   "source": [
    "Once we have the libraries imported, we can set the initial population parameters for our simulations.\n"
   ]
  },
  {
   "cell_type": "code",
   "execution_count": 2,
   "id": "e39f3a42",
   "metadata": {},
   "outputs": [],
   "source": [
    "initial_population = 10000  # Total population\n",
    "fraction_infected = 0.02\n",
    "initial_infected = int(initial_population * fraction_infected)  # Initial number of infected individuals\n",
    "initial_recovered = 0  # Initial number of recovered individuals\n",
    "initial_susceptible = initial_population - initial_infected - initial_recovered  # Initial number of susceptible individuals\n"
   ]
  },
  {
   "cell_type": "markdown",
   "id": "5c72fa76",
   "metadata": {},
   "source": [
    "We can also set the rates for the SIR model, which will be used in our simulations."
   ]
  },
  {
   "cell_type": "code",
   "execution_count": 3,
   "id": "fdba7cbb",
   "metadata": {},
   "outputs": [],
   "source": [
    "beta = 0.15 # Infectivity rate\n",
    "mu = 0.1  # Recovery rate\n",
    "delta_t = 1  # Time step for the simulation"
   ]
  },
  {
   "cell_type": "markdown",
   "id": "d26d5f7f",
   "metadata": {},
   "source": [
    "These are the mcontrol parameters we will need to run our simulations.\n",
    "\n",
    "As we will use different simulation methods, we may need to add a couple of additional parameters in some scenarios.\n"
   ]
  },
  {
   "cell_type": "markdown",
   "id": "a669d7c9",
   "metadata": {},
   "source": [
    "# Well mixed population Simulations"
   ]
  },
  {
   "cell_type": "markdown",
   "id": "f069bcca",
   "metadata": {},
   "source": [
    "Let's start with the simplest model, a well mixed population.\n",
    "\n",
    "In a well-mixed population, every individual has an equal chance of interacting with every other individual in the system. \n",
    "\n",
    "One way of simulating it is by solving the differential equations of the SIR model."
   ]
  },
  {
   "cell_type": "markdown",
   "id": "01ff3aaa",
   "metadata": {},
   "source": [
    "## 1. Well mixed population with ODEs"
   ]
  },
  {
   "cell_type": "markdown",
   "id": "ec91d72c",
   "metadata": {},
   "source": [
    "The diferencial equations governing the SIR model are:\n",
    "- $\\dfrac{dS}{dt} = -\\beta \\cdot S \\cdot \\dfrac{I}{N}$\n",
    "\n",
    "- $\\dfrac{dI}{dt} = \\beta \\cdot S \\cdot \\dfrac{I}{N} - \\mu \\cdot I$\n",
    "\n",
    "- $\\dfrac{dR}{dt} = \\mu \\cdot I$\n"
   ]
  },
  {
   "cell_type": "markdown",
   "id": "7e271462",
   "metadata": {},
   "source": [
    "Where:\n",
    "- $S$: Number of susceptible individuals.\n",
    "- $I$: Number of infected individuals.\n",
    "- $R$: Number of recovered individuals.\n",
    "- $N$: Total population size (constant)."
   ]
  },
  {
   "cell_type": "markdown",
   "id": "c88edb56",
   "metadata": {},
   "source": [
    "By solving these equations, we can obtain the time evolution of the compartments in the SIR model.\n",
    "\n",
    "We are going to solve them using Euler's method. This method approximates the solution by iterating over small time steps.\n",
    "\n",
    "As an example, if we have the position differential equation in the URM:\n",
    "\n",
    "$$\\dfrac{dx}{dt} = v(t)$$\n",
    "\n",
    "Then, the position $x(t + \\Delta t)$ of a particle at time $t + \\Delta t$ can be approximated as:\n",
    "\n",
    "$$x(t + \\Delta t) \\approx x(t) + v(t) \\Delta t$$\n",
    "\n",
    "where $v(t)$ is the velocity of the particle at time $t$ and $\\Delta t$ is a small time step. Leveraging this idea, we can solve the SIR model equations.\n",
    "\n"
   ]
  },
  {
   "cell_type": "markdown",
   "id": "76da77aa",
   "metadata": {},
   "source": [
    "Then, the simulation can be implemented as follows:\n",
    "\n",
    "1. Initialize the population.\n",
    "   \n",
    "2. Set time to 0.\n",
    "3. Set the time step.\n",
    "4. Apply the Euler's method to update the compartments based on the rates.\n",
    "5. Update the simulation time.\n",
    "6. Store the data for the current time step (Time, Susceptible, Infected, Recovered) in a list.\n",
    "7. Repeat from 3. to 6. until the stopping condition is reached.\n",
    "8. Convert the list of data into a Pandas DataFrame for easier analysis and visualization.\n",
    "9. Plot the epidemic curves using `plot_well_mixed_ODES`.\n",
    "\n",
    "* NOTE: The time series simulation data should be stored in a structured format with the columns (Time, Susceptible, Infected, Recovered)"
   ]
  },
  {
   "cell_type": "markdown",
   "id": "7c16b9b5",
   "metadata": {},
   "source": [
    "We set the initial parameters"
   ]
  },
  {
   "cell_type": "code",
   "execution_count": 4,
   "id": "1317f51a",
   "metadata": {},
   "outputs": [],
   "source": [
    "S = initial_susceptible  # Susceptible individuals\n",
    "I = initial_infected  # Infected individuals\n",
    "R = initial_recovered  # Recovered individuals\n",
    "N = initial_population  # Total population\n",
    "\n",
    "simulation_time = 0 \n",
    "\n",
    "delta_t = 1  # Time step for the simulation"
   ]
  },
  {
   "cell_type": "code",
   "execution_count": 5,
   "id": "df557c96",
   "metadata": {},
   "outputs": [],
   "source": [
    "#Initialize the list with data\n",
    "data_ODES = []"
   ]
  },
  {
   "cell_type": "markdown",
   "id": "0cb8b6fe",
   "metadata": {},
   "source": [
    "We run the simulation"
   ]
  },
  {
   "cell_type": "code",
   "execution_count": 6,
   "id": "ab7eca54",
   "metadata": {},
   "outputs": [
    {
     "name": "stdout",
     "output_type": "stream",
     "text": [
      "final state: S=3926.7174989210457, I=0.9698270264987751, R=6072.312674052466\n"
     ]
    }
   ],
   "source": [
    "epsilon = 1 # Small value to prevent division by zero\n",
    "while I > epsilon:\n",
    "    # Compute derivatives from current state\n",
    "    dS = -beta * S * I / N\n",
    "    dI = beta * S * I / N - mu * I\n",
    "    dR = mu * I\n",
    "    \n",
    "    # Update all compartments simultaneously\n",
    "    S += dS * delta_t\n",
    "    I += dI * delta_t\n",
    "    R += dR * delta_t\n",
    "\n",
    "    # Update simulation time\n",
    "    simulation_time += delta_t\n",
    "\n",
    "    # Append current state to the data list\n",
    "    data_ODES.append({'Time': simulation_time, 'Susceptible': S, 'Infected': I, 'Recovered': R})\n",
    "\n",
    "print(f'final state: S={S}, I={I}, R={R}')\n",
    "\n",
    "# Convert the data list to a DataFrame\n",
    "df_ODES = pd.DataFrame(data_ODES)\n"
   ]
  },
  {
   "cell_type": "code",
   "execution_count": 7,
   "id": "3d68f803",
   "metadata": {},
   "outputs": [
    {
     "data": {
      "image/png": "[encoded data removed]",
      "text/plain": [
       "<Figure size 1200x600 with 1 Axes>"
      ]
     },
     "metadata": {},
     "output_type": "display_data"
    }
   ],
   "source": [
    "plot_well_mixed_ODES(df_ODES)"
   ]
  },
  {
   "cell_type": "markdown",
   "id": "34a302fb",
   "metadata": {},
   "source": [
    "Solving the ODEs numerically using the Euler method gives us an approximate solution for the dynamics of the compartments over time. But deterministic Euler solves the average SIR trajectory; it will always grow if $R_0>1$.\n",
    "\n",
    "To account for the stochastic nature of the epidemic, we can use a Monte Carlo simulation approach.\n"
   ]
  },
  {
   "cell_type": "markdown",
   "id": "20f35dc2",
   "metadata": {},
   "source": [
    "## 2. Well mixed population with Monte Carlo"
   ]
  },
  {
   "cell_type": "markdown",
   "id": "f8c2fec8",
   "metadata": {},
   "source": [
    "As epidemic diffusion is not a deterministic process, to simulate the stochastic nature of the epidemic, we can use a Monte Carlo simulation approach.\n",
    "\n",
    "To compute the probability of infection, we can use the mass-action formula:\n",
    "$$ P(S \\to I) = 1 - \\exp(-\\beta \\cdot I / N) $$\n"
   ]
  },
  {
   "cell_type": "markdown",
   "id": "d5af7362",
   "metadata": {},
   "source": [
    "Then, in each step, the new number of infected individuals can be obtained by sampling from a binomial distribution:\n",
    "$$ I_{new} = \\text{Binomial}(S, P(S \\to I)) $$"
   ]
  },
  {
   "cell_type": "markdown",
   "id": "47b76a49",
   "metadata": {},
   "source": [
    "In the recovery phase, the probability of recovery is just $\\mu$, then the new number of recovered individuals can be obtained by sampling from another binomial distribution:\n",
    "$$ R_{new} = \\text{Binomial}(I, P(I \\to R)) $$"
   ]
  },
  {
   "cell_type": "markdown",
   "id": "ee34f768",
   "metadata": {},
   "source": [
    "As the model is stochastic, we can do more than one simulation to have more samples in order to analyze the results."
   ]
  },
  {
   "cell_type": "code",
   "execution_count": 8,
   "id": "a6a0a728",
   "metadata": {},
   "outputs": [],
   "source": [
    "Nsims = 10  # Number of simulations for the stochastic model\n",
    "data_stochastic_well_mixed = [] #We need a variable to store the data for the stochastic well-mixed model\n",
    "tracking_data_stochastic_well_mixed = []"
   ]
  },
  {
   "cell_type": "markdown",
   "id": "db776ca6",
   "metadata": {},
   "source": [
    "In addition, we can also track the events of infections and recoveries by randomly sampling the people in the population. For this, we will need two sets:\n",
    "- S_set: Susceptible individuals.\n",
    "- I_set: Infected individuals.\n"
   ]
  },
  {
   "cell_type": "markdown",
   "id": "80b8fb86",
   "metadata": {},
   "source": [
    "Then, the steps for each simulation iteration are as follows:\n",
    "1. Initialize the population; S, I, R and N variables.\n",
    "   \n",
    "2. Initialize the time to zero.\n",
    "3. Initialize the sets S_set andd I_set where we will store the individuals in each compartment.\n",
    "4. Compute the infection and recovery probabilities.\n",
    "5. Sample the number of new infections and recoveries.\n",
    "6. Update population variables.\n",
    "7. Update simulation time.\n",
    "8. OPTIONAL:For each new infection, randomly sample an individual from S_set and move it to I_set.\n",
    "9. OPTIONAL: For each recovery, randomly sample an individual from I_set and remove him.\n",
    "10. OPTIONAL: You should store the event information in a list with columns: 'Simulation', 'Event', 'Time', 'Infector', 'Infected', 'Recovered'.\n",
    "11. Store the time series data.\n",
    "12. Repeat steps 4 to 11 for until the stopping condition is reached.\n",
    "13. Repeat all the steps for every simulation you do.\n",
    "14. Convert both list to pandas Dataframes.\n",
    "15. Visualize the epidemic curves the plotting function `plot_well_mixed_stochastic`\n",
    "* NOTE: The time series simulation data should be stored in a structured format with the columns (Simulation, Time, Susceptible, Infected, Recovered) and the Tracking data should have the columns (Simulation, Time, Event, Infector, Infected, Recovered), where the column 'Event' indicates the type of event (infection or recovery) and depending on the event type, the 'Infector' and 'Infected' or 'Recovered' columns may be filled or left empty."
   ]
  },
  {
   "cell_type": "markdown",
   "id": "28660ef6",
   "metadata": {},
   "source": [
    "#### Hints"
   ]
  },
  {
   "cell_type": "markdown",
   "id": "1bd74b34",
   "metadata": {},
   "source": [
    "You can use the functions:\n",
    "\n",
    "```python\n",
    "np.random.choice() # Choose one element from a list\n",
    "np.random.binomial()# Sample from a binomial"
   ]
  },
  {
   "cell_type": "code",
   "execution_count": 9,
   "id": "2d0dc41e",
   "metadata": {},
   "outputs": [
    {
     "name": "stdout",
     "output_type": "stream",
     "text": [
      "Simulation 1/10\n",
      "Simulation 2/10\n",
      "Simulation 3/10\n",
      "Simulation 4/10\n",
      "Simulation 5/10\n",
      "Simulation 6/10\n",
      "Simulation 7/10\n",
      "Simulation 8/10\n",
      "Simulation 9/10\n",
      "Simulation 10/10\n"
     ]
    }
   ],
   "source": [
    "# Loop over the number of simulations\n",
    "for sim in range(Nsims):\n",
    "    print(f'Simulation {sim + 1}/{Nsims}')\n",
    "\n",
    "    # Reset the compartments for each simulation\n",
    "    S = initial_susceptible\n",
    "    I = initial_infected\n",
    "    R = initial_recovered\n",
    "    N = initial_population\n",
    "\n",
    "    # Reset simulation time\n",
    "    simulation_time = 0\n",
    "\n",
    "    # Initialize the sets for each compartment\n",
    "    S_set = set(range(initial_susceptible))  # Susceptible individuals\n",
    "    I_set = set(range(initial_susceptible, initial_susceptible + initial_infected))  # Infected individuals\n",
    "    R_set = set(range(initial_susceptible + initial_infected, initial_population))  # Recovered individuals\n",
    "\n",
    "    # Run the simulation until the stopping condition is reached\n",
    "    while I > 0:\n",
    "        # Compute the probabilities of infection and recovery\n",
    "        p_inf = 1 - np.exp(-beta * I / N)\n",
    "        p_rec = 1 - np.exp(-mu)\n",
    "\n",
    "        # Simulate the stochastic process\n",
    "        new_infections = np.random.binomial(S, p_inf)\n",
    "        new_recoveries = np.random.binomial(I, p_rec)\n",
    "\n",
    "        # Update the compartments\n",
    "        S -= new_infections\n",
    "        I += new_infections - new_recoveries\n",
    "        R += new_recoveries\n",
    "\n",
    "        # Update simulation time\n",
    "        simulation_time += delta_t\n",
    "\n",
    "        # Track the events of infections and recoveries\n",
    "        # Infections\n",
    "        for infection in range(new_infections):\n",
    "            if S_set:\n",
    "                # Randomly choose a susceptible individual\n",
    "                susceptible_individual = random.choice(list(S_set))\n",
    "\n",
    "                # Randomly choose an infected individual\n",
    "                infected_individual = random.choice(list(I_set)) if I_set else None\n",
    "\n",
    "                # Update the sets\n",
    "                S_set.remove(susceptible_individual)\n",
    "                I_set.add(susceptible_individual)\n",
    "\n",
    "                # Append the current state to the tracking data\n",
    "                tracking_data_stochastic_well_mixed.append({\n",
    "                    'Simulation': sim,\n",
    "                    'Time': simulation_time,\n",
    "                    'Event': 'Infection',\n",
    "                    'Infector': infected_individual,\n",
    "                    'Infected': susceptible_individual\n",
    "                })\n",
    "        #TODO: We need to remove new infected in recoveries\n",
    "        # Recoveries\n",
    "        for recovery in range(new_recoveries):\n",
    "            if I_set:\n",
    "                # Randomly choose an infected individual\n",
    "                infected_individual = random.choice(list(I_set))\n",
    "\n",
    "                # Update the sets\n",
    "                I_set.remove(infected_individual)\n",
    "                R_set.add(infected_individual)\n",
    "                \n",
    "                # Append the current state to the tracking data\n",
    "                tracking_data_stochastic_well_mixed.append({\n",
    "                    'Simulation': sim,\n",
    "                    'Time': simulation_time,\n",
    "                    'Event': 'Recovery',\n",
    "                    'Recovered': infected_individual\n",
    "                })\n",
    "\n",
    "        # Append the final state to the data list\n",
    "        data_stochastic_well_mixed.append({'Simulation': sim, 'Time': simulation_time, 'Susceptible': S, 'Infected': I, 'Recovered': R})\n"
   ]
  },
  {
   "cell_type": "code",
   "execution_count": 10,
   "id": "9f469689",
   "metadata": {},
   "outputs": [],
   "source": [
    "# Convert the data list to a DataFrame\n",
    "df_stochastic_well_mixed = pd.DataFrame(data_stochastic_well_mixed)\n",
    "# Convert the tracking data to a DataFrame\n",
    "tracking_df_stochastic_well_mixed = pd.DataFrame(tracking_data_stochastic_well_mixed)"
   ]
  },
  {
   "cell_type": "code",
   "execution_count": 11,
   "id": "615e81f2",
   "metadata": {},
   "outputs": [
    {
     "name": "stderr",
     "output_type": "stream",
     "text": [
      "/home/marco/china_school/plot_functions.py:29: UserWarning: No artists with labels found to put in legend.  Note that artists whose label start with an underscore are ignored when legend() is called with no argument.\n",
      "  plt.legend()\n"
     ]
    },
    {
     "data": {
      "image/png": "[encoded data removed]",
      "text/plain": [
       "<Figure size 1200x600 with 1 Axes>"
      ]
     },
     "metadata": {},
     "output_type": "display_data"
    }
   ],
   "source": [
    "plot_well_mixed_stochastic(df_stochastic_well_mixed)"
   ]
  },
  {
   "cell_type": "markdown",
   "id": "a20d2226",
   "metadata": {},
   "source": [
    "### Well-mixed population with Gillespie's algorithm"
   ]
  },
  {
   "cell_type": "markdown",
   "id": "f6208e8c",
   "metadata": {},
   "source": [
    "What if we want to simulate the SIR model with continuous time?\n",
    "\n",
    "For this, we can use the Gillespie algorithm\n"
   ]
  },
  {
   "cell_type": "markdown",
   "id": "2ab30cd0",
   "metadata": {},
   "source": [
    "Now the time step is determined by the sum of the rates of all possible events. The probability density function for the likelihood of observing a waiting time $t$ is given by:\n",
    "$$ f(t) = \\tau_{total} \\exp(-\\tau_{total} t) $$\n",
    "\n",
    "Where:\n",
    "$$ \\tau_{total} = \\tau_I + \\tau_R$$\n",
    "\n",
    "Where:\n",
    "\n",
    "$$ \\tau_I = \\beta S \\dfrac{I}{N} \\qquad \\tau_R = \\mu I$$"
   ]
  },
  {
   "cell_type": "markdown",
   "id": "f56d7703",
   "metadata": {},
   "source": [
    "To sample the time step, we will use the cumulative distribution function (CDF) method. The steps to follow are:\n",
    "\n",
    "1. Compute the cumulative distribution function, $F(t)$.\n",
    "2. Given that $F(t)$ is between 0 and 1, we have that $F(t_1) = w$, where $w$ is a random number between 0 and 1.\n",
    "3. Find the value of $t_1$ such that $F(t_1) = w$.\n",
    "4. The time step is then given by $\\Delta t = t_1$."
   ]
  },
  {
   "cell_type": "markdown",
   "id": "808bd078",
   "metadata": {},
   "source": [
    "Once we know how to sample the time step, we can proceed with the simulation. The steps for each simulation iteration are as follows:\n",
    "\n",
    "1. Find the CDF distribution.\n",
    "1. Initialize the population.\n",
    "   \n",
    "2. Calculate the total rate of events, infections and recoveries.\n",
    "3. Sample the time step using the CDF method.\n",
    "4. Choose the event to execute based on the rates (with a uniform random number).\n",
    "5. Update the sets based on the event executed.\n",
    "6. Store the time series data (Simulation, Time, Susceptible, Infected, Recovered) for the Gillespie well-mixed model.\n",
    "7. Repeat steps from 3 to 7 until the stopping condition is reached.\n",
    "8. Repeat all steps for every simulation.\n",
    "9. Create a pandas Dataframe from the lists and plot it with `plot_well_mixed_Gillespie`.\n",
    "   \n",
    "* NOTE: The time series simulation data should be stored in a structured format with the columns (Simulation, Time, Susceptible, Infected, Recovered)"
   ]
  },
  {
   "cell_type": "markdown",
   "id": "4212e948",
   "metadata": {},
   "source": [
    "You can use the functions:\n",
    "\n",
    "```python\n",
    "random.random()# Produce a random uniform number"
   ]
  },
  {
   "cell_type": "code",
   "execution_count": 12,
   "id": "add16256",
   "metadata": {},
   "outputs": [],
   "source": [
    "data_gillespie_well_mixed = []  # We need a variable to store the data for the Gillespie well-mixed model\n",
    "Nsims = 10  # Number of simulations for the Gillespie well-mixed model"
   ]
  },
  {
   "cell_type": "code",
   "execution_count": 13,
   "id": "83db43ec",
   "metadata": {},
   "outputs": [
    {
     "name": "stdout",
     "output_type": "stream",
     "text": [
      "Simulation 1/10\n",
      "Simulation 2/10\n",
      "Simulation 3/10\n",
      "Simulation 4/10\n",
      "Simulation 5/10\n",
      "Simulation 6/10\n",
      "Simulation 7/10\n",
      "Simulation 8/10\n",
      "Simulation 9/10\n",
      "Simulation 10/10\n"
     ]
    }
   ],
   "source": [
    "for sim in range(Nsims):\n",
    "    print(f'Simulation {sim + 1}/{Nsims}')    \n",
    "\n",
    "    # Reset the compartments for each simulation\n",
    "    S = initial_susceptible  # Susceptible individuals\n",
    "    I = initial_infected  # Infected individuals\n",
    "    R = initial_recovered  # Recovered individuals\n",
    "    N = initial_population  # Total population\n",
    "\n",
    "    # Reset simulation time\n",
    "    time = 0\n",
    "\n",
    "    # Run the simulation until the stopping condition is reached\n",
    "    while I > 0:\n",
    "        # Compute both rates, infection and recovery\n",
    "        infection_rate = beta * S * I / N\n",
    "        recovery_rate = mu * I\n",
    "\n",
    "        # Compute total rate\n",
    "        total_rate = infection_rate + recovery_rate\n",
    "        if total_rate == 0:\n",
    "            break\n",
    "\n",
    "        # Generate a random time until the next event\n",
    "        time_step = - np.log(1 - random.random()) / total_rate\n",
    "\n",
    "        # Update time\n",
    "        time += time_step\n",
    "\n",
    "        # Choose an event\n",
    "        if random.random() < infection_rate / total_rate:\n",
    "            # Infection event\n",
    "            S -= 1\n",
    "            I += 1\n",
    "        else:\n",
    "            # Recovery event\n",
    "            I -= 1\n",
    "            R += 1\n",
    "\n",
    "        # Store the data for analysis\n",
    "        data_gillespie_well_mixed.append({'Simulation': sim, 'Time': time, 'Susceptible': S, 'Infected': I, 'Recovered': R})"
   ]
  },
  {
   "cell_type": "code",
   "execution_count": 14,
   "id": "228f1d25",
   "metadata": {},
   "outputs": [],
   "source": [
    "df_gillespie_well_mixed = pd.DataFrame(data_gillespie_well_mixed)\n"
   ]
  },
  {
   "cell_type": "markdown",
   "id": "605c2260",
   "metadata": {},
   "source": [
    "# Simulation in networks"
   ]
  },
  {
   "cell_type": "markdown",
   "id": "a6685516",
   "metadata": {},
   "source": [
    "Real world networks are often complex and heterogeneous, making it necessary to use more sophisticated models to simulate disease spread."
   ]
  },
  {
   "cell_type": "markdown",
   "id": "e45c8e6e",
   "metadata": {},
   "source": [
    "The first step to simulate disease spread in networks is to create a network structure that represents the connections between individuals."
   ]
  },
  {
   "cell_type": "code",
   "execution_count": 15,
   "id": "19b56202",
   "metadata": {},
   "outputs": [],
   "source": [
    "beta = 0.03"
   ]
  },
  {
   "cell_type": "code",
   "execution_count": 16,
   "id": "8f94b98c",
   "metadata": {},
   "outputs": [],
   "source": [
    "# Create the network\n",
    "network_name = 'erdos'# Change this variable to change the network\n",
    "if network_name == 'erdos':\n",
    "    # Create a random graph\n",
    "  my_network = nx.erdos_renyi_graph(n = initial_population, p = 0.001, seed = 7)\n",
    "elif network_name == 'barabasi':\n",
    "  my_network = nx.barabasi_albert_graph(n = initial_population, m = 2, seed = 42)\n",
    "else:\n",
    "  print('Choose between erdos and barabasi')\n"
   ]
  },
  {
   "cell_type": "markdown",
   "id": "e5639c0b",
   "metadata": {},
   "source": [
    "Now we can use the network structure to simulate the disease spread using the SIR model. "
   ]
  },
  {
   "cell_type": "markdown",
   "id": "b9bfaaee",
   "metadata": {},
   "source": [
    "Steps to go:\n",
    "\n",
    "1. Initialize the state of each node in the network (S, I, R). Randomly assign the infected states to the nodes.\n",
    "\n",
    "2. Loop through the nodes and check the state of each node.\n",
    "   1. If the individdual is infected:\n",
    "      1. Check its neighbors and infect them with a certain probability.\n",
    "      2. Check if it recovers with a certain probability.    \n",
    "     \n",
    "3. Update the state of each node based on the infection and recovery processes.\n",
    "4. As an optional task store the tracking data for each event.\n",
    "5. Store the node state for each time step.\n",
    "6. Store the time series data.\n",
    "7. Repeat the process for a certain number of iterations or until the disease dies out.\n",
    "8. Repeat all the steps for every simulation\n",
    "\n",
    "* Note: Node state data should have the columns (Time, Node, State) and tracking data should have the columns (Simulation, Time, Event, Infector, Infected, Recovered) and the time series should have the columns (Simulation, Time, Susceptible, Infected, Recovered)\n",
    "\n",
    "\n",
    "\n"
   ]
  },
  {
   "cell_type": "markdown",
   "id": "e561495a",
   "metadata": {},
   "source": [
    "You can use the functions:\n",
    "\n",
    "```python\n",
    "random.random()# Produce a random uniform number\n",
    "nx.set_node_attributes()# Assign a state to all the nodes\n",
    "\n",
    ".to_csv(f'data/{network_name}_node_state.csv') # Save the data into a .csv file"
   ]
  },
  {
   "cell_type": "code",
   "execution_count": 17,
   "id": "325d6c7a",
   "metadata": {},
   "outputs": [],
   "source": [
    "# Initialize data storage\n",
    "data_stochastic_network = []\n",
    "tracking_data_stochastic_network = []\n",
    "node_state_network = []\n",
    "\n",
    "\n",
    "Nsims = 3"
   ]
  },
  {
   "cell_type": "code",
   "execution_count": 18,
   "id": "afc958fb",
   "metadata": {},
   "outputs": [],
   "source": [
    "for i in range(Nsims):\n",
    "    # Initialize all as susceptible\n",
    "    nx.set_node_attributes(my_network, 'S', 'state')\n",
    "\n",
    "    # Sample infected nodes\n",
    "    infected_nodes = np.random.choice(my_network.nodes,\n",
    "                                    size=initial_infected,\n",
    "                                    replace=False)\n",
    "\n",
    "    # Set the state of the infected nodes\n",
    "    for node in infected_nodes:\n",
    "        my_network.nodes[node]['state'] = 'I'\n",
    "\n",
    "    # Set simulation time\n",
    "    simulation_time = 0\n",
    "\n",
    "\n",
    "    # Initialize compartments\n",
    "    N = initial_population\n",
    "    \n",
    "    I = int(initial_population * fraction_infected)\n",
    "    S = initial_population - I\n",
    "    R = 0\n",
    "\n",
    "    # Run the simulation until the stopping condition is reached\n",
    "    while I > 0:\n",
    "        # Loop through all the nodes\n",
    "        for node in my_network.nodes:\n",
    "\n",
    "            # Check if its infected\n",
    "            if my_network.nodes[node]['state'] == 'I':\n",
    "\n",
    "                # Check neighbors for susceptible individuals\n",
    "                for neighbor in my_network.neighbors(node):\n",
    "                    if my_network.nodes[neighbor]['state'] == 'S':\n",
    "\n",
    "                        # Check if the infection occurs\n",
    "                        if random.random() < beta:\n",
    "                            # Infect the neighbor\n",
    "                            my_network.nodes[neighbor]['state'] = 'I'\n",
    "\n",
    "                            # Update compartments\n",
    "                            S -= 1\n",
    "                            I += 1\n",
    "\n",
    "                            # Track the infection event\n",
    "                            tracking_data_stochastic_network.append({\n",
    "                                'Simulation': i,\n",
    "                                'Time': simulation_time,\n",
    "                                'Event': 'Infection',\n",
    "                                'Infector': node,\n",
    "                                'Infected': neighbor\n",
    "                            })\n",
    "                # Check if the infected individual recovers\n",
    "                if random.random() < mu:\n",
    "                    # Recover the infected individual\n",
    "                    my_network.nodes[node]['state'] = 'R'\n",
    "\n",
    "                    # Update compartments\n",
    "                    I -= 1\n",
    "                    R += 1\n",
    "\n",
    "                    # Track the recovery event\n",
    "                    tracking_data_stochastic_network.append({\n",
    "                        'Simulation': i,\n",
    "                        'Time': simulation_time,\n",
    "                        'Event': 'Recovery',\n",
    "                        'Recovered': node\n",
    "                    })\n",
    "\n",
    "            # Store the state of each node in the network\n",
    "            node_state_network.append({'Simulation': i, 'Time': simulation_time, 'Node': node, 'State': my_network.nodes[node]['state']})\n",
    "        # Update simulation time\n",
    "        simulation_time += delta_t\n",
    "        \n",
    "        # Append the current state to the data list\n",
    "        data_stochastic_network.append({\n",
    "            'Simulation': i,\n",
    "            'Time': simulation_time,\n",
    "            'Susceptible': S,\n",
    "            'Infected': I,\n",
    "            'Recovered': R\n",
    "        })\n",
    "\n"
   ]
  },
  {
   "cell_type": "code",
   "execution_count": 19,
   "id": "b6006ccf",
   "metadata": {},
   "outputs": [],
   "source": [
    "# Set the datasets\n",
    "df_stochastic_network = pd.DataFrame(data_stochastic_network)\n",
    "df_node_state_newtork = pd.DataFrame(node_state_network)\n",
    "df_node_state_newtork.to_csv(f'node_state_network_{network_name}.csv', index=False)\n",
    "tracking_df_stochastic_network = pd.DataFrame(tracking_data_stochastic_network)\n"
   ]
  },
  {
   "cell_type": "code",
   "execution_count": 20,
   "id": "6d861000",
   "metadata": {},
   "outputs": [
    {
     "data": {
      "image/png": "[encoded data removed]",
      "text/plain": [
       "<Figure size 1200x600 with 1 Axes>"
      ]
     },
     "metadata": {},
     "output_type": "display_data"
    }
   ],
   "source": [
    "plot_well_mixed_stochastic(df_stochastic_network)"
   ]
  },
  {
   "cell_type": "markdown",
   "id": "52536422",
   "metadata": {},
   "source": [
    "### Gillespie algorithm in Networks"
   ]
  },
  {
   "cell_type": "markdown",
   "id": "97cc9fe0",
   "metadata": {},
   "source": [
    "As in the well mixed models, gillespie algorithm allows us to have a continuous time representation of the epidemic process.\n",
    "\n",
    "The idea is the same, but as we have a network structure, we need to account for the topology of the network when implementing the Gillespie algorithm. This means considering the connections between nodes and the fact that infections can only spread through these connections. \n",
    "\n",
    "Now the individuals does not have the same probability of getting infected, this probability should be proportional to the number of infected neighbours of each susceptible node ($prob = \\# \\text{infected neighbours} \\cdot \\beta$).\n"
   ]
  },
  {
   "cell_type": "markdown",
   "id": "9076307a",
   "metadata": {},
   "source": [
    "Now the infection rate is:\n",
    "\n",
    "\n",
    "$$ \\tau_I = \\# \\text{E(I $\\rightarrow$ S)} \\cdot \\beta $$"
   ]
  },
  {
   "cell_type": "markdown",
   "id": "11f65580",
   "metadata": {},
   "source": [
    "Steps to go:\n",
    "\n",
    "1. Initialize the state of each node in the network (S, I, R). Randomly assign states to each node.\n",
    "   \n",
    "2. You should have two sets, to track the susceptibles and the infected nodes.\n",
    "3. Loop through all susceptible nodes and compute their probability of being infected (saving that probabilities in a dict Susceptible : prob).\n",
    "4. Compute the total infection and recovery rates.\n",
    "5. Sample the time step until the next event.\n",
    "6. Choose an event, infection or recovery.\n",
    "7. If its an infection event, select a susceptible node based on their infection probabilities.\n",
    "8. If its a recovery event, recover one infected individual.\n",
    "9. Update the sets.\n",
    "10. Repeat steps 3 to 9 until the stopping criteria are met."
   ]
  },
  {
   "cell_type": "markdown",
   "id": "b75b2ea4",
   "metadata": {},
   "source": [
    "You can use the functions:\n",
    "\n",
    "```python\n",
    "random.random()\n",
    "np.random.choice()# Choose one element from a list\n",
    "np.random.choices()# Choose more than one element from a list\n"
   ]
  },
  {
   "cell_type": "code",
   "execution_count": 25,
   "id": "3c405151",
   "metadata": {},
   "outputs": [],
   "source": [
    "\n",
    "# Initialize all as susceptible\n",
    "nx.set_node_attributes(my_network, 'S', 'state')\n",
    "\n",
    "# Sample infected nodes\n",
    "infected_nodes = np.random.choice(my_network.nodes,\n",
    "                                  size=initial_infected,\n",
    "                                  replace=False)\n",
    "for node in infected_nodes:\n",
    "    my_network.nodes[node]['state'] = 'I'\n",
    "\n",
    "# Set initial parameters as before \n",
    "simulation_time = 0\n",
    "data_gillespie_network = []  # We need a variable to store the data for the stochastic network model\n",
    "tracking_data_stochastic_network = []\n",
    "node_state_network = []\n",
    "\n",
    "S = initial_susceptible\n",
    "I = initial_infected\n",
    "R = initial_recovered\n",
    "N = initial_population\n",
    "\n"
   ]
  },
  {
   "cell_type": "code",
   "execution_count": 26,
   "id": "9d8223d8",
   "metadata": {},
   "outputs": [],
   "source": [
    "S_set = set(set(my_network.nodes()) - set(infected_nodes))  # Infected individuals\n",
    "\n",
    "I_set = set(infected_nodes)  # Infected individuals\n",
    "\n",
    "while I > 0:\n",
    "    infection_probability_dict = {Sus: 0 for Sus in S_set}\n",
    "\n",
    "    for node_at_risk in S_set:\n",
    "        for neighbour in my_network.neighbors(node_at_risk):\n",
    "            if my_network.nodes[neighbour]['state'] == 'I':\n",
    "                infection_probability_dict[node_at_risk] += beta\n",
    "\n",
    "    infection_rate = sum(infection_probability_dict.values())\n",
    "    recovery_rate = mu * len(I_set)\n",
    "\n",
    "    #compute time step\n",
    "    total_rate = infection_rate + recovery_rate\n",
    "    if total_rate == 0:\n",
    "        break\n",
    "    # Generate a random time until the next event\n",
    "    time_step = - np.log(1 - random.random()) / total_rate\n",
    "\n",
    "    simulation_time += time_step\n",
    "\n",
    "    # Choose the next event\n",
    "    if random.random() < infection_rate / total_rate:\n",
    "        # Infection event\n",
    "        event_type = 'infection'\n",
    "        sus_nodes = list(infection_probability_dict.keys())\n",
    "        weights = np.array(list(infection_probability_dict.values()), dtype=float)\n",
    "        weights /= weights.sum()\n",
    "\n",
    "        # Choose the infected node\n",
    "        infected_node = np.random.choice(sus_nodes, p = weights)\n",
    "\n",
    "        # Update the state\n",
    "        my_network.nodes[infected_node]['state'] = 'I'\n",
    "\n",
    "        # Update population variables\n",
    "        S -= 1\n",
    "        I += 1\n",
    "\n",
    "        # Update the Sets\n",
    "        S_set.remove(infected_node)\n",
    "        I_set.add(infected_node)\n",
    "    else:\n",
    "        # Recovery event\n",
    "        event_type = 'recovery'\n",
    "\n",
    "        recovered_node = random.choice(list(I_set))\n",
    "        my_network.nodes[recovered_node]['state'] = 'R'\n",
    "\n",
    "        # Update population variables\n",
    "        R += 1\n",
    "        I -= 1\n",
    "\n",
    "        # Update the Sets\n",
    "        I_set.remove(recovered_node)\n",
    "    data_gillespie_network.append({'Time': simulation_time, 'Susceptible': S, 'Infected': I, 'Recovered': R})\n"
   ]
  },
  {
   "cell_type": "code",
   "execution_count": 27,
   "id": "5251d8be",
   "metadata": {},
   "outputs": [],
   "source": [
    "df_gillespie = pd.DataFrame(data_gillespie_network)"
   ]
  },
  {
   "cell_type": "code",
   "execution_count": 28,
   "id": "a5c3908d",
   "metadata": {},
   "outputs": [
    {
     "data": {
      "image/png": "[encoded data removed]",
      "text/plain": [
       "<Figure size 1200x600 with 1 Axes>"
      ]
     },
     "metadata": {},
     "output_type": "display_data"
    }
   ],
   "source": [
    "plot_networks_Gillespie(df_gillespie)"
   ]
  },
  {
   "cell_type": "markdown",
   "id": "645bb9aa",
   "metadata": {},
   "source": [
    "### Optimized Gillespie"
   ]
  },
  {
   "cell_type": "markdown",
   "id": "ad3e4869",
   "metadata": {},
   "source": [
    "Tracking the susceptible individuals and checking if they have infected neighbors can be very computationally expensive, especially in large networks.\n",
    "\n",
    "For that reason, we can apply an optimization in Gillespie algorithm. According to it, we can just track the infected individuals and compute the infection rate as:\n",
    "\n",
    "$$\\tau_{I} = \\sum_{v \\in N_I} \\sum_{i = 0}^{k} \\beta$$\n",
    "\n",
    "Where $N_I$ is the set infected nodes and $k$ is the degree of the node $v$. Basically, what we are computing now is the rate of making an infectious contact, which will lead to an infection only if the target node is susceptible."
   ]
  },
  {
   "cell_type": "markdown",
   "id": "2108e9ac",
   "metadata": {},
   "source": [
    "The steps are almost the same as in the previous Gillespie algorithm, but with a few modifications. Now you don't need to track the susceptible individuals and there is a infection just if the target node is susceptible.\n",
    "\n",
    "Steps to follow:\n",
    "1. Initialize the state of each node in the network (S, I, R). Randomly assign states to each node.\n",
    "   \n",
    "2. You should have one set to track infected nodes.\n",
    "\n",
    "3. Compute the total infection and recovery rates.\n",
    "4. Sample the time step until the next event.\n",
    "5. Choose an event, infection or recovery.\n",
    "6. If its an infection event, select an infected node proportional to their degree, sample one of its neighbours and if its susceptible infect it.\n",
    "7. Update the set.\n",
    "8. Repeat steps 3 to 7 until the stopping criteria are met.\n",
    "9. Convert to a Dataframe and plot it "
   ]
  },
  {
   "cell_type": "markdown",
   "id": "d1e84e4f",
   "metadata": {},
   "source": [
    "You may need to use:\n",
    "\n",
    "```python\n",
    "nx.degree()\n"
   ]
  },
  {
   "cell_type": "code",
   "execution_count": 29,
   "id": "6f9689b8",
   "metadata": {},
   "outputs": [],
   "source": [
    "my_network = nx.erdos_renyi_graph(n=initial_population, p=0.0005)  # Create a random graph\n",
    "\n",
    "# Initialize all as susceptible\n",
    "nx.set_node_attributes(my_network, 'S', 'state')\n",
    "\n",
    "# Sample infected nodes\n",
    "infected_nodes = np.random.choice(my_network.nodes,\n",
    "                                  size=initial_infected,\n",
    "                                  replace=False)\n",
    "for node in infected_nodes:\n",
    "    my_network.nodes[node]['state'] = 'I'\n",
    "\n",
    "# Set initial parameters as before \n",
    "simulation_time = 0\n",
    "data_gillespie_network = []  # We need a variable to store the data for the stochastic network model\n",
    "tracking_data_stochastic_network = []\n",
    "node_state_network = []\n",
    "\n",
    "S = initial_susceptible\n",
    "I = initial_infected\n",
    "R = initial_recovered\n",
    "N = initial_population\n",
    "\n",
    "\n",
    "Infected_dict = {node: nx.degree(my_network, node) for node in infected_nodes}\n",
    "\n",
    "simulation_time = 0"
   ]
  },
  {
   "cell_type": "code",
   "execution_count": 30,
   "id": "5d0bb8b6",
   "metadata": {},
   "outputs": [],
   "source": [
    "while I > 0:\n",
    "    infection_rate = sum(Infected_dict.values()) * beta\n",
    "    recovery_rate = mu * I\n",
    "\n",
    "    total_rate = infection_rate + recovery_rate\n",
    "    if total_rate == 0:\n",
    "        break\n",
    "\n",
    "    # Sample the time until the next event\n",
    "    time_step = - np.log(1 - random.random()) / total_rate\n",
    "\n",
    "    simulation_time += time_step\n",
    "\n",
    "    # Choose an event: infection or recovery\n",
    "    if np.random.rand() < infection_rate / total_rate:\n",
    "        # Infection event\n",
    "        infected_nodes = list(Infected_dict.keys())\n",
    "        weights = np.array(list(Infected_dict.values()), dtype=float)\n",
    "        weights /= weights.sum()\n",
    "        infected_node = np.random.choice(infected_nodes, p=weights)\n",
    "        neighbors = list(my_network.neighbors(infected_node))\n",
    "        if neighbors:\n",
    "            target_node = np.random.choice(neighbors)\n",
    "            if my_network.nodes[target_node]['state'] == 'S':\n",
    "                my_network.nodes[target_node]['state'] = 'I'\n",
    "                Infected_dict[target_node] = nx.degree(my_network, target_node)\n",
    "                I += 1\n",
    "                S -= 1\n",
    "    else:\n",
    "        # Recovery event\n",
    "        recovered_node = np.random.choice(list(Infected_dict.keys()))\n",
    "        my_network.nodes[recovered_node]['state'] = 'R'\n",
    "        del Infected_dict[recovered_node]\n",
    "        I -= 1\n",
    "        R += 1"
   ]
  },
  {
   "cell_type": "code",
   "execution_count": null,
   "id": "3e03319d",
   "metadata": {},
   "outputs": [],
   "source": []
  }
 ],
 "metadata": {
  "kernelspec": {
   "display_name": ".venv (3.12.4)",
   "language": "python",
   "name": "python3"
  },
  "language_info": {
   "codemirror_mode": {
    "name": "ipython",
    "version": 3
   },
   "file_extension": ".py",
   "mimetype": "text/x-python",
   "name": "python",
   "nbconvert_exporter": "python",
   "pygments_lexer": "ipython3",
   "version": "3.12.4"
  }
 },
 "nbformat": 4,
 "nbformat_minor": 5
}
